{
 "cells": [
  {
   "cell_type": "code",
   "execution_count": 8,
   "metadata": {},
   "outputs": [],
   "source": [
    "import pandas as pd\n",
    "import sys,os\n",
    "%matplotlib inline\n",
    "import matplotlib\n",
    "import matplotlib.pyplot as plt\n",
    "import numpy as np"
   ]
  },
  {
   "cell_type": "code",
   "execution_count": 9,
   "metadata": {},
   "outputs": [],
   "source": [
    "train_path = \"D:/Projects/crowdai_train/train\"\n",
    "\n",
    "train_df = pd.DataFrame(columns=['class','count'])\n",
    "for c in os.listdir(train_path):\n",
    "    class_path = os.path.join(train_path,c)\n",
    "    if os.path.isdir(class_path):\n",
    "        train_df = train_df.append({'class':c,\n",
    "                                        'count':len(os.listdir(class_path))},\n",
    "                                       ignore_index=True)"
   ]
  },
  {
   "cell_type": "code",
   "execution_count": 10,
   "metadata": {},
   "outputs": [],
   "source": [
    "val_path = \"D:/Projects/crowdai_train/val\"\n",
    "\n",
    "val_df = pd.DataFrame(columns=['class','count'])\n",
    "for c in os.listdir(val_path):\n",
    "    class_path = os.path.join(val_path,c)\n",
    "    if os.path.isdir(class_path):\n",
    "        val_df = val_df.append({'class':c,\n",
    "                                        'count':len(os.listdir(class_path))},\n",
    "                                       ignore_index=True)"
   ]
  },
  {
   "cell_type": "code",
   "execution_count": 11,
   "metadata": {},
   "outputs": [
    {
     "data": {
      "text/plain": [
       "count    19739\n",
       "dtype: int64"
      ]
     },
     "execution_count": 11,
     "metadata": {},
     "output_type": "execute_result"
    }
   ],
   "source": [
    "np.sum(train_df.groupby(\"class\").sum())"
   ]
  },
  {
   "cell_type": "code",
   "execution_count": 12,
   "metadata": {},
   "outputs": [
    {
     "data": {
      "text/plain": [
       "count    2178\n",
       "dtype: int64"
      ]
     },
     "execution_count": 12,
     "metadata": {},
     "output_type": "execute_result"
    }
   ],
   "source": [
    "np.sum(val_df.groupby(\"class\").sum())"
   ]
  },
  {
   "cell_type": "code",
   "execution_count": 13,
   "metadata": {},
   "outputs": [
    {
     "data": {
      "image/png": "[encoded data removed]",
      "text/plain": [
       "<Figure size 1080x576 with 1 Axes>"
      ]
     },
     "metadata": {
      "needs_background": "light"
     },
     "output_type": "display_data"
    }
   ],
   "source": [
    "plt.rcParams[\"figure.figsize\"] = (15,8)\n",
    "train_df.groupby(\"class\").sum().plot(kind=\"bar\");"
   ]
  },
  {
   "cell_type": "code",
   "execution_count": 14,
   "metadata": {},
   "outputs": [
    {
     "data": {
      "image/png": "[encoded data removed]",
      "text/plain": [
       "<Figure size 1080x576 with 1 Axes>"
      ]
     },
     "metadata": {
      "needs_background": "light"
     },
     "output_type": "display_data"
    }
   ],
   "source": [
    "val_df.groupby(\"class\").sum().plot(kind=\"bar\");"
   ]
  },
  {
   "cell_type": "markdown",
   "metadata": {},
   "source": [
    "# Matlab Image Processing Exampls\n",
    "\n",
    "![orginal](processing_examples/plantvillage.png)"
   ]
  },
  {
   "cell_type": "markdown",
   "metadata": {},
   "source": [
    "### 1.negative\n",
    "\n",
    "matlab code:\n",
    "\n",
    "```matlab\n",
    "\n",
    "[img,maps] = imread('plantvillage-min.png','png')\n",
    "x1rgb = ind2rgb(img, maps);\n",
    "c = imcomplement(x1rgb);\n",
    "image(c)\n",
    "```\n",
    "![negative](processing_examples/negative.png)"
   ]
  },
  {
   "cell_type": "markdown",
   "metadata": {},
   "source": [
    "### 2) Laplacian Filtering\n",
    "\n",
    "##### Matlab code:\n",
    "```\n",
    "figure\n",
    "imhist(x1rgb)\n",
    "title('orginal hist')\n",
    "```\n",
    "![hist](processing_examples/hist.png)\n",
    "\n",
    "##### Impove constrast matlab code\n",
    "```\n",
    "I2 = histeq(x1rgb);\n",
    "figure\n",
    "imshow(I2)\n",
    "```\n",
    "\n",
    "![constrast](processing_examples/constrast.png)\n",
    "![after_hist](processing_examples/after_hist.png)"
   ]
  },
  {
   "cell_type": "markdown",
   "metadata": {},
   "source": [
    "#### Fast local Laplacian filtering\n",
    "\n",
    "```matlab\n",
    "sigma = 0.4;\n",
    "alpha = 0.5;\n",
    "A = imread('processing_examples/plantvillage.png');\n",
    "figure\n",
    "imshow(B)\n",
    "title('Fast local Laplacian filtering')\n",
    "```\n",
    "![lap](processing_examples/lap.png)"
   ]
  },
  {
   "cell_type": "markdown",
   "metadata": {},
   "source": [
    "### segmentation\n",
    "\n",
    "````\n",
    "knee = mat2gray(A);\n",
    "imageSegmenter(knee)\n",
    "```\n",
    "![seg](processing_examples/seg.jpg)"
   ]
  },
  {
   "cell_type": "code",
   "execution_count": null,
   "metadata": {},
   "outputs": [],
   "source": []
  }
 ],
 "metadata": {
  "kernelspec": {
   "display_name": "Python 3",
   "language": "python",
   "name": "python3"
  },
  "language_info": {
   "codemirror_mode": {
    "name": "ipython",
    "version": 3
   },
   "file_extension": ".py",
   "mimetype": "text/x-python",
   "name": "python",
   "nbconvert_exporter": "python",
   "pygments_lexer": "ipython3",
   "version": "3.7.3"
  }
 },
 "nbformat": 4,
 "nbformat_minor": 2
}
