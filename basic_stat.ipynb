{
 "cells": [
  {
   "cell_type": "code",
   "execution_count": 5,
   "metadata": {},
   "outputs": [],
   "source": [
    "\n",
    "import pandas as pd\n",
    "import sys,os\n",
    "%matplotlib inline\n",
    "import matplotlib\n",
    "import matplotlib.pyplot as plt\n",
    "import numpy as np"
   ]
  },
  {
   "cell_type": "code",
   "execution_count": 2,
   "metadata": {},
   "outputs": [],
   "source": [
    "root_path = \"crowdai\"\n",
    "\n",
    "desease_df = pd.DataFrame(columns=['class','count'])\n",
    "for c in os.listdir(root_path):\n",
    "    class_path = os.path.join(root_path,c)\n",
    "    if os.path.isdir(class_path):\n",
    "        desease_df = desease_df.append({'class':c,\n",
    "                                        'count':len(os.listdir(class_path))},\n",
    "                                       ignore_index=True)"
   ]
  },
  {
   "cell_type": "code",
   "execution_count": 3,
   "metadata": {},
   "outputs": [
    {
     "data": {
      "text/html": [
       "<div>\n",
       "<style scoped>\n",
       "    .dataframe tbody tr th:only-of-type {\n",
       "        vertical-align: middle;\n",
       "    }\n",
       "\n",
       "    .dataframe tbody tr th {\n",
       "        vertical-align: top;\n",
       "    }\n",
       "\n",
       "    .dataframe thead th {\n",
       "        text-align: right;\n",
       "    }\n",
       "</style>\n",
       "<table border=\"1\" class=\"dataframe\">\n",
       "  <thead>\n",
       "    <tr style=\"text-align: right;\">\n",
       "      <th></th>\n",
       "      <th>class</th>\n",
       "      <th>count</th>\n",
       "    </tr>\n",
       "  </thead>\n",
       "  <tbody>\n",
       "    <tr>\n",
       "      <th>0</th>\n",
       "      <td>c_5</td>\n",
       "      <td>510</td>\n",
       "    </tr>\n",
       "    <tr>\n",
       "      <th>1</th>\n",
       "      <td>c_33</td>\n",
       "      <td>720</td>\n",
       "    </tr>\n",
       "    <tr>\n",
       "      <th>2</th>\n",
       "      <td>c_2</td>\n",
       "      <td>124</td>\n",
       "    </tr>\n",
       "    <tr>\n",
       "      <th>3</th>\n",
       "      <td>c_34</td>\n",
       "      <td>547</td>\n",
       "    </tr>\n",
       "    <tr>\n",
       "      <th>4</th>\n",
       "      <td>c_3</td>\n",
       "      <td>713</td>\n",
       "    </tr>\n",
       "  </tbody>\n",
       "</table>\n",
       "</div>"
      ],
      "text/plain": [
       "  class count\n",
       "0   c_5   510\n",
       "1  c_33   720\n",
       "2   c_2   124\n",
       "3  c_34   547\n",
       "4   c_3   713"
      ]
     },
     "execution_count": 3,
     "metadata": {},
     "output_type": "execute_result"
    }
   ],
   "source": [
    "desease_df.head()"
   ]
  },
  {
   "cell_type": "code",
   "execution_count": 6,
   "metadata": {},
   "outputs": [
    {
     "data": {
      "text/plain": [
       "count    21917\n",
       "dtype: int64"
      ]
     },
     "execution_count": 6,
     "metadata": {},
     "output_type": "execute_result"
    }
   ],
   "source": [
    "np.sum(desease_df.groupby(\"class\").sum())"
   ]
  },
  {
   "cell_type": "code",
   "execution_count": 4,
   "metadata": {},
   "outputs": [
    {
     "data": {
      "image/png": "[encoded data removed]",
      "text/plain": [
       "<Figure size 1080x720 with 1 Axes>"
      ]
     },
     "metadata": {
      "needs_background": "light"
     },
     "output_type": "display_data"
    }
   ],
   "source": [
    "plt.rcParams[\"figure.figsize\"] = (15,10)\n",
    "desease_df.groupby(\"class\").sum().plot(kind=\"bar\");"
   ]
  },
  {
   "cell_type": "markdown",
   "metadata": {},
   "source": [
    "# Matlab Image Processing Exampls\n",
    "\n",
    "![orginal](processing_examples/plantvillage.png)"
   ]
  },
  {
   "cell_type": "markdown",
   "metadata": {},
   "source": [
    "### 1.negative\n",
    "\n",
    "matlab code:\n",
    "\n",
    "```matlab\n",
    "\n",
    "[img,maps] = imread('plantvillage-min.png','png')\n",
    "x1rgb = ind2rgb(img, maps);\n",
    "c = imcomplement(x1rgb);\n",
    "image(c)\n",
    "```\n",
    "![negative](processing_examples/negative.png)"
   ]
  },
  {
   "cell_type": "markdown",
   "metadata": {},
   "source": [
    "### 2) Laplacian Filtering\n",
    "\n",
    "##### Matlab code:\n",
    "```\n",
    "figure\n",
    "imhist(x1rgb)\n",
    "title('orginal hist')\n",
    "```\n",
    "![hist](processing_examples/hist.png)\n",
    "\n",
    "##### Impove constrast matlab code\n",
    "```\n",
    "I2 = histeq(x1rgb);\n",
    "figure\n",
    "imshow(I2)\n",
    "```\n",
    "\n",
    "![constrast](processing_examples/constrast.png)\n",
    "![after_hist](processing_examples/after_hist.png)"
   ]
  },
  {
   "cell_type": "markdown",
   "metadata": {},
   "source": [
    "#### Fast local Laplacian filtering\n",
    "\n",
    "```matlab\n",
    "sigma = 0.4;\n",
    "alpha = 0.5;\n",
    "A = imread('processing_examples/plantvillage.png');\n",
    "figure\n",
    "imshow(B)\n",
    "title('Fast local Laplacian filtering')\n",
    "```\n",
    "![lap](processing_examples/lap.png)"
   ]
  },
  {
   "cell_type": "markdown",
   "metadata": {},
   "source": [
    "### segmentation\n",
    "\n",
    "````\n",
    "knee = mat2gray(A);\n",
    "imageSegmenter(knee)\n",
    "```\n",
    "![seg](processing_examples/seg.jpg)"
   ]
  },
  {
   "cell_type": "code",
   "execution_count": null,
   "metadata": {},
   "outputs": [],
   "source": []
  }
 ],
 "metadata": {
  "kernelspec": {
   "display_name": "Python 3",
   "language": "python",
   "name": "python3"
  },
  "language_info": {
   "codemirror_mode": {
    "name": "ipython",
    "version": 3
   },
   "file_extension": ".py",
   "mimetype": "text/x-python",
   "name": "python",
   "nbconvert_exporter": "python",
   "pygments_lexer": "ipython3",
   "version": "3.6.8"
  }
 },
 "nbformat": 4,
 "nbformat_minor": 2
}
